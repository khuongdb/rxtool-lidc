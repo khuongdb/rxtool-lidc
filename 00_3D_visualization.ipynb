{
 "cells": [
  {
   "cell_type": "raw",
   "id": "cdaef132-a92c-4277-a159-f9e7f2d9f402",
   "metadata": {},
   "source": [
    "---\n",
    "title: 3D camera pose geometry\n",
    "subtitle: Using PyVista to visualize the 3D geometry of the projection setup\n",
    "skip_exec: true\n",
    "---"
   ]
  },
  {
   "cell_type": "raw",
   "id": "3fbc7c2f-ba14-4042-9d58-579f29502bd8",
   "metadata": {},
   "source": [
    "::: {.callout-note}\n",
    "3D plotting in Jupyter can be annoying to set up, not to mention getting it to work on a remote server. Be sure to follow [all instructions in the PyVista documentation](https://docs.pyvista.org/version/stable/user-guide/jupyter/trame.html#trame-jupyter-backend-for-pyvista) to resolve common bugs.\n",
    ":::"
   ]
  },
  {
   "cell_type": "code",
   "execution_count": 1,
   "id": "6df5aaaa-972c-486a-97bd-e25b918da019",
   "metadata": {},
   "outputs": [
    {
     "name": "stderr",
     "output_type": "stream",
     "text": [
      "/home/ensai/anaconda3/envs/rxtool/lib/python3.11/site-packages/diffpose/calibration.py:23: UserWarning: As of jaxtyping version 0.2.24, jaxtyping now prefers the syntax\n",
      "```\n",
      "from jaxtyping import jaxtyped\n",
      "# Use your favourite typechecker: usually one of the two lines below.\n",
      "from typeguard import typechecked as typechecker\n",
      "from beartype import beartype as typechecker\n",
      "\n",
      "@jaxtyped(typechecker=typechecker)\n",
      "def foo(...):\n",
      "```\n",
      "and the old double-decorator syntax\n",
      "```\n",
      "@jaxtyped\n",
      "@typechecker\n",
      "def foo(...):\n",
      "```\n",
      "should no longer be used. (It will continue to work as it did before, but the new approach will produce more readable error messages.)\n",
      "In particular note that `typechecker` must be passed via keyword argument; the following is not valid:\n",
      "```\n",
      "@jaxtyped(typechecker)\n",
      "def foo(...):\n",
      "```\n",
      "\n",
      "  @jaxtyped\n",
      "/home/ensai/anaconda3/envs/rxtool/lib/python3.11/site-packages/diffpose/calibration.py:125: UserWarning: As of jaxtyping version 0.2.24, jaxtyping now prefers the syntax\n",
      "```\n",
      "from jaxtyping import jaxtyped\n",
      "# Use your favourite typechecker: usually one of the two lines below.\n",
      "from typeguard import typechecked as typechecker\n",
      "from beartype import beartype as typechecker\n",
      "\n",
      "@jaxtyped(typechecker=typechecker)\n",
      "def foo(...):\n",
      "```\n",
      "and the old double-decorator syntax\n",
      "```\n",
      "@jaxtyped\n",
      "@typechecker\n",
      "def foo(...):\n",
      "```\n",
      "should no longer be used. (It will continue to work as it did before, but the new approach will produce more readable error messages.)\n",
      "In particular note that `typechecker` must be passed via keyword argument; the following is not valid:\n",
      "```\n",
      "@jaxtyped(typechecker)\n",
      "def foo(...):\n",
      "```\n",
      "\n",
      "  @jaxtyped\n"
     ]
    }
   ],
   "source": [
    "import pyvista\n",
    "import torch\n",
    "from diffdrr.drr import DRR\n",
    "from diffdrr.visualization import drr_to_mesh, img_to_mesh\n",
    "\n",
    "from diffpose.deepfluoro import DeepFluoroDataset\n",
    "from diffpose.visualization import fiducials_to_mesh, lines_to_mesh"
   ]
  },
  {
   "cell_type": "raw",
   "id": "f3c00c78-4207-4035-809e-0d6ccd16a0a6",
   "metadata": {},
   "source": [
    "::: {.callout-tip}\n",
    "## If running Jupyter remotely, run the following...\n",
    "```\n",
    "pyvista.start_xvfb()\n",
    "pyvista.global_theme.trame.server_proxy_enabled = True\n",
    "pyvista.global_theme.trame.server_proxy_prefix = \"/proxy/\"\n",
    "```\n",
    ":::"
   ]
  },
  {
   "cell_type": "code",
   "execution_count": null,
   "id": "714b41a2",
   "metadata": {},
   "outputs": [],
   "source": [
    "# pyvista.start_xvfb()\n",
    "# pyvista.global_theme.trame.server_proxy_enabled = True\n",
    "# pyvista.global_theme.trame.server_proxy_prefix = \"/proxy/\""
   ]
  },
  {
   "cell_type": "code",
   "execution_count": 2,
   "id": "d75937d6-4944-43d7-848a-e2654cf67c65",
   "metadata": {},
   "outputs": [],
   "source": [
    "pyvista.set_jupyter_backend(\"trame\")\n",
    "device = torch.device(\"cuda\" if torch.cuda.is_available() else \"cpu\")"
   ]
  },
  {
   "cell_type": "code",
   "execution_count": 3,
   "id": "8e9c4812-904c-4ba4-8ba1-07b01b74f91a",
   "metadata": {},
   "outputs": [],
   "source": [
    "# Initialize DiffDRR for Patient 1\n",
    "SUBSAMPLE = 6.410714285714286\n",
    "specimen = DeepFluoroDataset(id_number=1)\n",
    "height = int((1536 - 100) / SUBSAMPLE)\n",
    "delx = 0.194 * SUBSAMPLE\n",
    "\n",
    "drr = DRR(\n",
    "    specimen.volume,\n",
    "    specimen.spacing,\n",
    "    sdr=specimen.focal_len / 2,\n",
    "    height=height,\n",
    "    delx=delx,\n",
    "    x0=specimen.x0,\n",
    "    y0=specimen.y0,\n",
    "    reverse_x_axis=True,\n",
    "    bone_attenuation_multiplier=2.5,\n",
    ").to(device)"
   ]
  },
  {
   "cell_type": "code",
   "execution_count": 4,
   "id": "79821669-093f-415f-9c2d-28b51363c54e",
   "metadata": {},
   "outputs": [],
   "source": [
    "_, pose = specimen[69]\n",
    "rotations = pose.get_rotation().to(device)\n",
    "translations = pose.get_translation().to(device)"
   ]
  },
  {
   "cell_type": "code",
   "execution_count": 6,
   "id": "67d3015c-b16a-482d-a1d5-ee98a1849847",
   "metadata": {},
   "outputs": [
    {
     "name": "stderr",
     "output_type": "stream",
     "text": [
      "Computing Contour: 100%|██████████[00:00<00:00]\n",
      "Finding and Labeling Connected Regions.: 100%|██████████[00:00<00:00]\n",
      "Smoothing Mesh using Taubin Smoothing: 100%|██████████[00:01<00:00]\n",
      "Decimating Mesh: 100%|██████████[00:03<00:00]\n",
      "Filling Holes: 100%|██████████[00:00<00:00]\n",
      "Cleaning: 100%|██████████[00:00<00:00]\n"
     ]
    }
   ],
   "source": [
    "# Extract a mesh from the CT\n",
    "ct = drr_to_mesh(drr, method=\"marching_cubes\", threshold=145, verbose=True)\n",
    "\n",
    "# Make meshes for the camera and detector plane and\n",
    "# convert the DRR into a texture for the detector plane\n",
    "camera, detector, texture, principal_ray = img_to_mesh(\n",
    "    drr, rotations, translations, \"matrix\"\n",
    ")\n",
    "\n",
    "# Compute the locations of 3D fiducials and projected 2D fiducials\n",
    "fiducials_3d, fiducials_2d = fiducials_to_mesh(\n",
    "    specimen,\n",
    "    rotations,\n",
    "    translations,\n",
    "    detector=detector,\n",
    "    parameterization=\"matrix\",\n",
    ")\n",
    "\n",
    "# Draw lines from the camera to the 2D fiducials\n",
    "lines = lines_to_mesh(camera, fiducials_2d)"
   ]
  },
  {
   "cell_type": "markdown",
   "id": "589b7ccb-c9f2-4e8c-8102-073708c16c88",
   "metadata": {},
   "source": [
    "## Rendering a single X-ray in an interactive window\n",
    "\n",
    "Exporting a notebook to HTML does not also automatically catch the PyVista plots, so the interactive plot has been manually saved to HTML and loaded."
   ]
  },
  {
   "cell_type": "code",
   "execution_count": 7,
   "id": "4db49ef8-0e94-4d73-903e-8cd4d1d43cdc",
   "metadata": {},
   "outputs": [],
   "source": [
    "plotter = pyvista.Plotter()\n",
    "plotter.add_mesh(ct)\n",
    "plotter.add_mesh(camera, show_edges=True)\n",
    "plotter.add_mesh(detector, texture=texture)\n",
    "plotter.add_mesh(principal_ray, color=\"red\")\n",
    "plotter.add_mesh(\n",
    "    fiducials_3d,\n",
    "    color=\"blueviolet\",\n",
    "    point_size=7.5,\n",
    "    render_points_as_spheres=True,\n",
    ")\n",
    "plotter.add_mesh(\n",
    "    fiducials_2d,\n",
    "    color=\"lime\",\n",
    "    point_size=5,\n",
    "    render_points_as_spheres=True,\n",
    ")\n",
    "for line in lines:\n",
    "    plotter.add_mesh(line, color=\"lime\")\n",
    "\n",
    "plotter.add_axes()\n",
    "plotter.add_bounding_box()\n",
    "\n",
    "# plotter.show()  # If running Jupyter locally\n",
    "# plotter.show(jupyter_backend=\"server\")  # If running Jupyter remotely\n",
    "plotter.export_html(\"render.html\")"
   ]
  },
  {
   "cell_type": "code",
   "execution_count": null,
   "id": "31911061-1d57-4799-987b-8503f6e99406",
   "metadata": {},
   "outputs": [],
   "source": [
    "from IPython.display import IFrame\n",
    "\n",
    "IFrame(\"render.html\", height=500, width=749)"
   ]
  },
  {
   "cell_type": "markdown",
   "id": "73e367b5-5e99-48d5-8bb1-d0eba81ac23e",
   "metadata": {},
   "source": [
    "## Rendering multiple X-rays in a static window"
   ]
  },
  {
   "cell_type": "code",
   "execution_count": 11,
   "id": "d1794d5e-1f14-4cd7-880e-6305c9a0733b",
   "metadata": {},
   "outputs": [
    {
     "data": {
      "application/vnd.jupyter.widget-view+json": {
       "model_id": "739e22402c4340cfbfc363b63336a6ae",
       "version_major": 2,
       "version_minor": 0
      },
      "text/plain": [
       "Widget(value='<iframe src=\"http://localhost:37239/index.html?ui=P_0x77471a524d90_2&reconnect=auto\" class=\"pyvi…"
      ]
     },
     "metadata": {},
     "output_type": "display_data"
    }
   ],
   "source": [
    "# Initialize the plot with the CT and 3D fiducials (shared across all plots)\n",
    "plotter = pyvista.Plotter()\n",
    "plotter.add_mesh(ct)\n",
    "plotter.add_mesh(\n",
    "    fiducials_3d,\n",
    "    color=\"blueviolet\",\n",
    "    point_size=7.5,\n",
    "    render_points_as_spheres=True,\n",
    ")\n",
    "\n",
    "# Render a subset of the X-rays\n",
    "for idx, color in zip([0, 2, 69, 100], [\"#1b9e77\", \"#d95f02\", \"#7570b3\", \"#e7298a\"]):\n",
    "    _, pose = specimen[idx]\n",
    "    rotations = pose.get_rotation().to(device)\n",
    "    translations = pose.get_translation().to(device)\n",
    "\n",
    "    camera, detector, texture, _ = img_to_mesh(\n",
    "        drr, rotations, translations, parameterization=\"matrix\"\n",
    "    )\n",
    "    _, fiducials_2d = fiducials_to_mesh(\n",
    "        specimen, rotations, translations, detector=detector, parameterization=\"matrix\"\n",
    "    )\n",
    "    lines = lines_to_mesh(camera, fiducials_2d)\n",
    "\n",
    "    plotter.add_mesh(camera, show_edges=True, line_width=3)\n",
    "    plotter.add_mesh(detector, texture=texture)\n",
    "    plotter.add_mesh(\n",
    "        fiducials_2d,\n",
    "        color=color,\n",
    "        point_size=5,\n",
    "        render_points_as_spheres=True,\n",
    "    )\n",
    "    for line in lines:\n",
    "        plotter.add_mesh(line, color=color)\n",
    "\n",
    "plotter.add_axes()\n",
    "plotter.add_bounding_box()\n",
    "plotter.show()"
   ]
  },
  {
   "cell_type": "code",
   "execution_count": null,
   "id": "81ad6aea-6af8-445d-be2b-0ffe5586026f",
   "metadata": {},
   "outputs": [],
   "source": []
  }
 ],
 "metadata": {
  "kernelspec": {
   "display_name": "rxtool",
   "language": "python",
   "name": "python3"
  },
  "language_info": {
   "codemirror_mode": {
    "name": "ipython",
    "version": 3
   },
   "file_extension": ".py",
   "mimetype": "text/x-python",
   "name": "python",
   "nbconvert_exporter": "python",
   "pygments_lexer": "ipython3",
   "version": "3.11.7"
  }
 },
 "nbformat": 4,
 "nbformat_minor": 5
}
